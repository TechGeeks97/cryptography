{
 "cells": [
  {
   "cell_type": "code",
   "execution_count": 5,
   "id": "07195421",
   "metadata": {},
   "outputs": [
    {
     "name": "stdout",
     "output_type": "stream",
     "text": [
      "Requirement already satisfied: pycryptodome in c:\\users\\usama\\anaconda3\\lib\\site-packages (3.20.0)\n"
     ]
    }
   ],
   "source": [
    "!pip install pycryptodome"
   ]
  },
  {
   "cell_type": "code",
   "execution_count": 9,
   "id": "e31c8ee0",
   "metadata": {},
   "outputs": [
    {
     "name": "stdout",
     "output_type": "stream",
     "text": [
      "Encrypted file saved to: past-data.csv.encrypted\n",
      "Decrypted file saved to: past-data.csv.encrypted.decrypted\n"
     ]
    }
   ],
   "source": [
    "from Crypto.Cipher import AES\n",
    "from Crypto.Util.Padding import pad, unpad\n",
    "from Crypto.Random import get_random_bytes\n",
    "import os\n",
    "import pandas as pd\n",
    "\n",
    "# Function to encrypt a file\n",
    "def encrypt_file(file_path, key):\n",
    "    # Initialize cipher in CBC mode with a random IV\n",
    "    cipher = AES.new(key, AES.MODE_CBC)\n",
    "    \n",
    "    # Read the content of the file\n",
    "    with open(file_path, 'rb') as f:\n",
    "        file_data = f.read()\n",
    "        \n",
    "    # Encrypt the file data\n",
    "    encrypted_data = cipher.encrypt(pad(file_data, AES.block_size))\n",
    "    \n",
    "    # Save the IV and the encrypted data to a file\n",
    "    encrypted_file_path = file_path + '.encrypted'\n",
    "    with open(encrypted_file_path, 'wb') as f:\n",
    "        f.write(cipher.iv)\n",
    "        f.write(encrypted_data)\n",
    "    \n",
    "    return encrypted_file_path\n",
    "\n",
    "# Function to decrypt a file\n",
    "def decrypt_file(encrypted_file_path, key):\n",
    "    # Read the IV and encrypted data\n",
    "    with open(encrypted_file_path, 'rb') as f:\n",
    "        iv = f.read(16)  # AES block size is 16 bytes\n",
    "        encrypted_data = f.read()\n",
    "        \n",
    "    # Initialize cipher in CBC mode with the saved IV\n",
    "    cipher = AES.new(key, AES.MODE_CBC, iv=iv)\n",
    "    \n",
    "    # Decrypt and unpad the data\n",
    "    decrypted_data = unpad(cipher.decrypt(encrypted_data), AES.block_size)\n",
    "    \n",
    "    # Save the decrypted data to a new file\n",
    "    decrypted_file_path = encrypted_file_path + '.decrypted'\n",
    "    with open(decrypted_file_path, 'wb') as f:\n",
    "        f.write(decrypted_data)\n",
    "    \n",
    "    return decrypted_file_path\n",
    "\n",
    "# Your secret key (use a secure method to generate and store this key!)\n",
    "key = b'1234567891234567'  # Key must be 16, 24, or 32 bytes long\n",
    "\n",
    "dataset_path = 'past-data.csv'\n",
    "#dataset = pd.read_csv(dataset_path)\n",
    "\n",
    "#dataset.head()\n",
    "\n",
    "# Encrypt the CSV file\n",
    "encrypted_file_path = encrypt_file(dataset_path, key)\n",
    "print(f'Encrypted file saved to: {encrypted_file_path}')\n",
    "\n",
    "# Decrypt the file (for demonstration)\n",
    "decrypted_file_path = decrypt_file(encrypted_file_path, key)\n",
    "print(f'Decrypted file saved to: {decrypted_file_path}')\n"
   ]
  },
  {
   "cell_type": "code",
   "execution_count": null,
   "id": "872f63fe",
   "metadata": {},
   "outputs": [],
   "source": []
  }
 ],
 "metadata": {
  "kernelspec": {
   "display_name": "Python 3 (ipykernel)",
   "language": "python",
   "name": "python3"
  },
  "language_info": {
   "codemirror_mode": {
    "name": "ipython",
    "version": 3
   },
   "file_extension": ".py",
   "mimetype": "text/x-python",
   "name": "python",
   "nbconvert_exporter": "python",
   "pygments_lexer": "ipython3",
   "version": "3.11.5"
  }
 },
 "nbformat": 4,
 "nbformat_minor": 5
}
